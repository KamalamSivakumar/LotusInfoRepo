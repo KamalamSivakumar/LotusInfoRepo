{
 "cells": [
  {
   "cell_type": "code",
   "execution_count": 1,
   "metadata": {},
   "outputs": [],
   "source": [
    "import nltk\n",
    "import numpy as np\n",
    "import random\n",
    "import string\n",
    "\n",
    "import bs4 as bs\n",
    "import urllib.request\n",
    "import re\n",
    "\n",
    "import warnings\n",
    "warnings. filterwarnings('ignore')"
   ]
  },
  {
   "cell_type": "code",
   "execution_count": 2,
   "metadata": {},
   "outputs": [],
   "source": [
    "url_list = [\"https://www.mindbodygreen.com/articles/lotus-flower-meaning#:~:text=Lotus%20flowers%20have%20a%20long,as%20folklore%20in%20ancient%20Greece.\",\"https://en.wikipedia.org/wiki/Nelumbo_nucifera\"]\n",
    "\n",
    "for url in url_list:\n",
    "    raw_html = urllib.request.urlopen(url)\n",
    "    raw_html = raw_html.read()\n",
    "\n",
    "    article_html = bs.BeautifulSoup(raw_html, 'lxml')\n",
    "\n",
    "    article_paragraphs = article_html.find_all('p')\n",
    "\n",
    "    article_text = ''\n",
    "\n",
    "    for para in article_paragraphs:\n",
    "        article_text += para.text\n",
    "\n",
    "    article_text = article_text.lower()"
   ]
  },
  {
   "cell_type": "code",
   "execution_count": 3,
   "metadata": {},
   "outputs": [
    {
     "data": {
      "text/plain": [
       "'\\nnelumbo nucifera, also known as sacred lotus, laxmi lotus, indian lotus,[1] or simply lotus, is one of two extant species of aquatic plant in the family nelumbonaceae. it is sometimes colloquially called a water lily, though this more often refers to members of the family nymphaeaceae.[2]\\nlotus plants are adapted to grow in the flood plains of slow-moving rivers and delta areas. stands of lotus drop hundreds of thousands of seeds every year to the bottom of the pond. while some sprout immediately, and most are eaten by wildlife, the remaining seeds can remain dormant for an extensive period of time as the pond silts in and dries out. during flood conditions, sediments containing these seeds are broken open, and the dormant seeds rehydrate and begin a new lotus colony.\\nunder favorable circumstances, the seeds of this aquatic perennial may remain viable for many years, with the oldest recorded lotus germination being from seeds 1,300\\xa0years old recovered from a dry lakebed in northeastern china.[3] therefore, the chinese regard the plant as a symbol of longevity.\\nit has a very wide native distribution, ranging from central and northern india (at altitudes up to 1,400\\xa0m or 4,600\\xa0ft in the southern himalayas[4]), through northern indochina and east asia (north to the amur region; the russian populations have sometimes been referred to as \"nelumbo komarovii\"), with isolated locations at the caspian sea.[5] today the species also occurs in southern india, sri lanka, virtually all of southeast asia, new guinea and northern and eastern australia, but this is probably the result of human translocations.[5] it has a very long history (c. 3,000 years) of being cultivated for its edible seeds,[5] and it is commonly cultivated in water gardens.[4] it is the national flower of india and vietnam. the lotus is used as a symbol by india\\'s bharatiya janata party (bjp).[citation needed]\\nnelumbo nucifera is also known as egyptian bean.[6][7]\\nthe lotus is often confused with the true water lilies of the genus nymphaea, in particular n. caerulea, the \"blue lotus.\" in fact, several older systems, such as the bentham & hooker system (which is widely used in the indian subcontinent), refer to the lotus by its old synonym, nymphaea nelumbo.[citation needed]\\nwhile all modern plant taxonomy systems agree that this species belongs in the genus nelumbo, the systems disagree as to which family nelumbo should be placed in or whether the genus should belong in its own unique family and order. according to the apg iv system, n. nucifera, n. lutea, and their extinct relatives belong in proteales with the protea flowers[8] due to genetic comparisons.  older systems, such as the cronquist system, place n. nucifera and its relatives in the order nymphaeles based on anatomical similarities.[9] according to the apg iv classification, the closest relatives of nelumbo include the sycamores (platanaceae).\\nthe lotus roots are planted in pond or river bottom soil, while the leaves float on the water\\'s surface or are held well above it. the flowers are usually found on thick stems rising several centimeters above the leaves. the leaf stalks (petioles) can be up to 200\\xa0cm (6\\xa0ft 7\\xa0in) long, allowing the plant to grow in water to that depth,[10] the peltate leaf blade or lamina can have a horizontal spread of 1\\xa0m (3\\xa0ft 3\\xa0in).[11][12] the leaves may be as large as 80\\xa0cm (31\\xa0in) in diameter, while the showy flowers can be up to 30\\xa0cm (12\\xa0in) in diameter,[13] but fourteen inches (35 centimeters) has been frequently reported.[14][15][16] some cultivated varieties have extraordinary numbers of petals. for example, the chinese variety qian ban lian (\"thousand petals lotus\") can have between 3000 and 4000 petals in a single blossom [17] and the japanese variety ohmi myoren (\"strange lotus\") can have between 2000 and 5000 petals,[18] the greatest number recorded for any species of plant.\\nresearchers report that the lotus has the remarkable ability to regulate the temperature of its flowers within a narrow range, just as humans and other warmblooded animals do.[19] roger s. seymour and paul schultze-motel, physiologists at the university of adelaide in australia, found that lotus flowers blooming in the adelaide botanic gardens maintained a temperature of 30–35\\xa0°c (86–95\\xa0°f), even when the air temperature dropped to 10\\xa0°c (50\\xa0°f). they suspect the flowers may be doing this to attract coldblooded insect pollinators. studies published in the journals nature and philosophical transactions: biological sciences in 1996 and 1998 were important contributions in the field of thermoregulation in plants. two other species known to be able to regulate their temperature include symplocarpus foetidus[20] and philodendron selloum.[citation needed]\\nlotus seeds can remain viable after long periods of dormancy. in 1994, a seed from a sacred lotus, dated at roughly 1,300 years old ± 270 years, was successfully germinated.[21][22]\\nthe traditional sacred lotus is only distantly related to nymphaea caerulea, but possesses similar chemistry.  both nymphaea caerulea and nelumbo nucifera contain the alkaloids nuciferine and aporphine.[citation needed]\\nthe genome of the sacred lotus was sequenced in may 2013.[23][24][25]\\nthe sacred lotus grows in water up to 2.5\\xa0m (8\\xa0ft) deep. the minimum water depth is about 30\\xa0cm (12\\xa0in). in colder climates, having a deeper water level protects the tubers more effectively, and overall is helpful for better growth and flowering. the sacred lotus germinates at temperatures above 13\\xa0°c (55\\xa0°f).[26] most varieties are not naturally cold-hardy, but may readily adapt to living outdoors year-round in usda hardiness zones 6 through 11 (with some growers having success in zones as low as 4 or 5); the higher the zone\\'s number, the greater the adaptability of the plants.[27] in the growing season, from april to september (in the northern hemisphere), the average daytime temperature needed is 23 to 27\\xa0°c (73 to 81\\xa0°f).[28] in regions with low light levels in winter, the sacred lotus has a period of dormancy. the tubers are not cold-resistant, if removed from water, and exposed to the air; when kept underwater in soil, the energy-rich tubers can overwinter temperatures below 0\\xa0°c (32\\xa0°f).[29] if the plants are taken out of the water for wintertime storage (mostly in exceptionally cold climates), the tubers and roots must be stored in a stable, frost-free location, such as a garage, preferably in a cardboard box or container filled completely with vermiculite or perlite. care must be taken to fully insulate the tubers.[30][31]\\nthe sacred lotus requires a nutrient-rich and loamy soil.[27] in the beginning of the summer period (from march until may in the northern hemisphere),[32] a small part of rhizome with at least one eye is either planted in ponds[33] or directly into a flooded field.[34][35] there are several other propagation ways via seeds or buds.[29] furthermore, tissue culture is a promising propagation method for the future to produce high volumes of uniform, true-to-type, disease-free materials.[36]\\nthe first step of the cultivation is to plough the dry field. one round of manure is applied after ten days, before flooding the field. to support a quick initial growth, the water level is relatively low[35] and increases when plants grow. then a maximum of approximately 4,000 per hectare (1,600/acre) with grid spacing of 1.2 by 2 metres (3\\xa0ft 11\\xa0in ×\\xa06\\xa0ft 7\\xa0in)[36] are used to plant directly into the mud 10–15\\xa0cm (3+7⁄8–5+7⁄8\\xa0in) below the soil surface.[37]\\nthe stolon is ready to harvest two to three months after planting. it must be harvested before flowering. harvesting the stolon is done by manual labor. for this step, the field is not drained. the stolon is pulled out of the water by pulling and shaking the young leaves in the shallow water.[35]\\nthe first leaves and flowers can be harvested three months after planting. flowers can be picked every two days during summer and every three days during the colder season. four months after planting, the production of flowers has its climax. the harvest of flowers is usually done by hand for three to four months.[35]\\nseeds and seed pods can be harvested when they turn black four to eight months after planting. after sun drying for two to three days, they are processed by mechanical tools to separate seed coats and embryos.[35][29]\\nthe rhizomes mature to a suitable stage for eating in approximately six to nine months.[37] early varieties are harvested in july until september and late varieties from october until march, after the ponds or fields are drained.[29][30][35][37][38] the large, starch rich rhizomes are easy to dig out of the drained soil.[35] in small-scale production, they are harvested by hand using fork-like tools.[29] in japan and on bigger farms manual labour harvesting is fully replaced by machines.[26]\\nlotus varieties have been classified according to their use into three types: rhizome lotus, seed lotus, and flower lotus. varieties that show more than one of these characteristics are classified by the strongest feature.[36] regarding production area in china, rhizome lotus has the largest area with 200,000\\xa0ha (490,000 acres), followed by seed lotus with 20,000\\xa0ha (49,000 acres).[39]\\nrhizome lotus cultivars produce a higher yield and higher quality rhizomes than seed or flower lotus cultivars. furthermore, this group grows tall and produces few to no flowers.[39][36]\\ncultivars can be classified by harvest time or by the depth of rhizomes into these types:\\nthe main popular nelumbo nucifera cultivars in china are elian 1, elian 4, elian 5, 9217, xin 1, and 00–01. the average yield of these cultivars is 7.5–15 t/ha (3.3-6.7 tons/acre) of harvest in july and 30–45 t/ha (13-20 tons/acre) of harvest in september.[39] in australia, the cultivar grown for the fresh rhizome market in guangdong and japan, the common rhizome cultivars are tenno and bitchu.[36]\\nthe characteristics of seed lotus cultivars are a large number of carpels and seed sets as well as large seeds with better nutritional properties. roots of these varieties are thin, fibrous, and do not form good rhizomes.[36] the main popular cultivars for seed production in china are cunsanlian, xianglian 1, zilian 2, jianlian, ganlian 62, and taikong 36. the average yield of these cultivars in china is 1.05–1.9 t/ha (0.5–0.8 tons/acre) of dry seeds and weight of thousand seeds between 1,020 and 1,800\\xa0g (36 and 63\\xa0oz).[39] green jade and vietnam-red are recommended cultivars for seed production in australia.[36]\\nflower lotus cultivars are used exclusively for ornamental purpose, producing many flowers and the lowest plant height.[39]\\nthe seed production of flower lotus is typically poor regarding yield and quality. flower types differ in the number of petals (single petals, double petals, or multi-petals) and their colours range from single colour in white, yellow, pink, and red to bi-colour, most often of white petals with pink tip or highlights.[36]\\nthe flowers are capable of producing ink used by artists such as morrison polkinghorne to produce abstract images of the landscapes of southern asia.[40]\\none example of a flower lotus is wanlian. also known as bowl lotus, wanlians are any miniature cultivars of n. nucifera sized between 5 and 8 centimetres (2.0 and 3.1\\xa0in). bowl lotuses come in various colours and numbers of petals, and they bloom longer than other species of lotus. but together with the rhizome, their seeds are often too small or too hard to be eatable.[41]\\nthe sacred lotus may be crossed with the yellow lotus to produce interspecific hybrids. a few varieties have been produced with differing appearances.[42]\\nabout 70% of lotus for human consumption is produced in china. in 2005, the cultivation area in china was estimated at 300,000 hectares (740,000 acres).[29] a majority of lotus production takes place in managed farming systems in ponds or flooded fields like rice.[39]\\nthe most widely used system is crop rotation with rice and vegetables. this system is applicable if the propagule (small piece of rhizome) can be planted early in the year. the rhizomes are harvested in july, after which rice can be planted in the same field.  rice is then harvested in october. from november until march, the field stays either free or terricolous vegetables, such as cabbage or spinach, are planted. alternatively, the vegetable can also be planted after the harvest of the lotus.[39]\\nanother alternative way is not to harvest the lotus rhizome, although it is ripe. a terricolous vegetable is planted between the rhizomes into the drained field. the rhizomes are then harvested next march.[39]\\na third way is to plant lotus in ponds or fields and raise aquatic animals such as fish, shrimp, or crab in the same field.[39] a more efficient use of the water for both, the aquatic animal and the lotus production, has been identified with this planting pattern.[43]\\nthe rhizomes of lotus (chinese: 蓮藕; pinyin: lián-ǒu, japanese: 蓮根, romanized:\\xa0renkon, hindi: कमल ककड़ी, romanized:\\xa0kamal kakdi) are consumed as a vegetable in asian countries, extensively in china, japan, and india, sold whole or in cut pieces, fresh, frozen, or canned. they are fried or cooked mostly in soups, soaked in syrup or pickled in vinegar (with sugar, chili and garlic).[44][45] lotus rhizomes have a crunchy texture and are a classic dish at many banquets, where they are deep-fried, stir-fried, or stuffed with meats or preserved fruits.[44] salads with prawns, sesame oil or coriander leaves are also popular. fresh lotus root slices are limited by a fast browning rate.[46][47] lotus root tea is consumed in korea.\\nlotus root is a popular vegetable in sri lanka, where it is often cooked in coconut milk gravy. in india, lotus root (also known as kamal kakdi) is cooked as a dry curry or sabzi.[48]\\njapan is one of the primary users of the rhizomes, representing about 1% of all vegetables consumed. japan grows its own lotus but still must import 18,000 tons of lotus rhizome each year, of which china provides 15,000 tons yearly.[49]\\nrhizomes contain high amounts of starch (31.2%) without characteristic taste or odor. the texture is comparable to a raw potato.[50] the binding and disintegration properties of isolated nelumbo starch have been compared with maize and potato starch; nelumbo starch is shown to be superior as an adjuvant in the preparation of tablets.[51] when dried, n. nucifera is also made into flour, another popular use of this vegetable.[44][45]\\nlotus pip tea is consumed in korea.\\nfresh lotus seeds (simplified chinese: 莲子; traditional chinese: 蓮子; pinyin: liánzǐ; cantonese yale: lìhnjí) are nutritious but also vulnerable to microbial contamination, especially fungal infections. therefore, mostly dry lotus seed-based products are found on the market. traditional sun baking combined with charcoal processing dries the seeds but results in a loss of nutrients. freeze-dried lotus seeds have a longer shelf life and maintain original nutrients, while no differences in flavour are found after rehydration compared to fresh lotus seeds.[52][53]\\ndry stored lotus seeds are sensitive to moisture and mold infestation; researchers continue to explore new ways to preserve fresh lotus seeds,\\xa0such as radiation processing.[54]\\nlotus seeds can be processed into moon cake, lotus seed noodles and food in the forms of paste, fermented milk, rice wine, ice cream, popcorn (phool makhana), and others, with lotus seeds as the main raw material. traditional eastern medicine claims that fresh lotus seed wine has thirst-quenching, spleen-healing, and anti-diarrheal advantages after drinking, attributed to unspecified bioactive compounds.[55][56] lotus seed tea is consumed in korea, and lotus embryo tea is consumed in china and vietnam.[56]\\nyoung lotus stems are used as a salad ingredient in vietnamese cuisine, and as a vegetable ingredient for some soup and curry in thailand, such as keang som sai bua (thai: แกงส้มสายบัว, lotus stem sour soup) and keang kati sai bua (แกงกะทิสายบัว, lotus stem in coconut milk curry)\\nin northern and eastern regions of india, the stalk of the flower is used to prepare a soup, kamal gatte ki sabji (hindi: कमल गट्टे की सब्जी) and an appetizet, kamal kakdi pakode (hindi: कमल ककडी पकौडे). in south indian states, the lotus stem is sliced, marinated with salt to dry, and the dried slices are fried and used as a side dish. in kerala (malayalam: \"താമര\") and tamil nadu, this end product is called thamara vathal.\\nin china and korea, lotus leaf tea (korean: 연잎차, romanized:\\xa0yeon\\'ip-cha) is made from the leaves of the lotus. it is also used as a wrap for steaming rice and sticky rice and other steamed dishes in southeast asian cuisine, such as lo mai gai in chinese cuisine or kao hor bai bua (thai: ข้าวห่อใบบัว), fried rice wrapped in lotus leaf in thai cuisine.\\nvietnamese also use lotus leaves to wrap green young rice, cốm, which is eaten in autumn. the leaves impart a unique scent to the soft, moist rice.\\nin korea, lotus flower tea (연꽃차 yeon\\'kkot-cha) is made from the dried petals of the white lotus.\\nthe stamens can be dried and made into a fragrant herbal tea (chinese: 蓮花 茶; pinyin: liánhuā cha; cantonese yale: lìhnfāa chah), or used to impart a scent to tea leaves (particularly in vietnam). this vietnamese lotus tea is called trà sen, chè sen, or chè ướp sen.\\nthe petals, leaves and rhizome can also all be eaten raw, but there is a risk of parasite transmission (e.g., fasciolopsis buski): it is therefore recommended that they be cooked before eating.\\nnelumbo nucifera shows high potential for usage in wastewater treatment removing polluting compounds[57] and heavy metals.[58][59][60] it is able to grow in variable water conditions[61] and in low light intensity.[57] various studies show the successful use of n. nucifera to counteract water eutrophication.[57][62] the leaves of the floating lotus reduce sunlight reaching the lower part of the water. this suppresses algae growth in n. nucifera aquatic systems and thus, the oxygen content is up to 20% higher than in other aquatic plant systems.[57] due to intense agricultural practices, nitrogen and phosphorus pollution are major problems in aquatic systems. n. nucifera is able to assimilate a higher content of phosphorus than aquatic plants currently used for water remediation (such as water hyacinth). it also assimilates nitrogen (\"denitrification\") and creates a habitat for bacterial growth in the water body.[57] through rhizofiltration, heavy metals – including arsenic, copper, and cadmium – can be removed efficiently from the water.[58][59] the results observed are impressive showing 96% of copper and 85% cadmium metals removed after a seven-day incubation period.[59] the accumulation of heavy metals doesn\\'t show morphological symptoms of metal toxicity;[60] however, the rhizome quality for human consumption needs further study.\\ncurrently, most rhizomes are consumed fresh, and it is not common to store them due to their poor shelf life performance.[63] this limits export possibilities for low-income production countries in asia. rhizomes quickly lose water, oxidation occurs and nutrient composition changes within a short time after harvest. optimal storage temperatures range between 5 and 8\\xa0°c (41 and 46\\xa0°f).[63] there are three different approaches to storing rhizomes. by stacking the rhizomes, they are storable and remain fresh for about three weeks. special stacking with silver sand[clarification needed] and soil results in five to six layers that prevent water loss, thus, the rhizome stays fresh for up to two months.[63] however the method is not suitable for commercialization but rather for home use. hydrogen sulfide fumigation reduces enzymatic browning and therefore ensures rhizome quality.[59] dipping the rhizomes in a salt solution prevents oxidation and bacterial reproduction, which allows storage for up to five months and greater export ability. this treatment is related to the high cost and inefficient cleaning process before eating the rhizomes.[clarification needed][63]\\nnelumbo nucifera contains some thermal-stable proteins that might be useful in protein bio engineering processes. the proteins are characterized by seed longevity used for cell protection and repair under stress.[64] there are also several indications that compounds of n. nucifera are used in drug fabrication in human health research for multiple purposes.[65]\\nthe distinctive dried seed heads, which resemble the spouts of watering cans, are widely sold throughout the world for decorative purposes and for dried flower arranging.\\nin asia, the petals are sometimes used for garnish, while the large leaves are used as a wrap for food, not frequently eaten (for example, as a wrapper for zongzi).\\na unique fabric called lotus silk, from the lotus plant fibers, is produced only at inle lake, myanmar, and in siem reap, cambodia. this thread is used for weaving special robes for buddha images called kya thingan (lotus robe).\\nthe flavonol miquelianin, as well as the alkaloids (+)-(1r)-coclaurine and (−)-(1s)-norcoclaurine, can be found in the leaves of n. nucifera.[66] the plant also contains nuciferine, neferine, and many other benzylisoquinoline alkaloids with medicinal properties.[67][68]\\nall parts of nelumbo nucifera are edible, with the rhizome and seeds being the main consumption parts. traditionally rhizomes, leaves, and seeds have been used as folk medicines, ayurveda, chinese traditional medicine, and oriental medicine.[69][70] while leaves are used for hematemesis, epistaxis, and hematuria, the flowers are used for lowering blood sugar levels,[71] diarrhea, cholera, fever, and hyperdipsia.[69][70] rhizomes have purported diuretic, antidiabetic, and anti-inflammatory properties.[69][70][72][73] in chinese medicine, seeds are still used as lian zi xin (蓮子心).[74]\\nlotus rhizomes and seeds and their processing by-products are widely consumed in asia, the americas, and oceania for high content of physiologically active substances.[73] especially in china, lotus seeds are popular with a cultural history going back about 3000 years. as early as the han dynasty, lotus seeds were already recorded as sweet, astringent, nourishing the heart and kidney in \"shen nong\\'s herbal classic.\"[75] nowadays there are 22 varieties for the four known chinese lines, which are found particularly in jianning (still called \"the town of jianlian lotus seeds in china\") and guangchang (\"the town of white lotus seeds in china\").[76]\\nthese days the perennial aquatic herb is gaining popularity because of its nutraceutical and historical importance[73][56] it will be of economic value if the different parts of lotus can be developed as functional food.[70][56] because of the special role in human health and richness in nutrients and bioactive substances, the chinese ministry of health approved the use of n. nucifera as both \"food and medicine.\"[77]\\nthe rhizomes are 60–14\\xa0cm (23.6–5.5\\xa0in) long, 0.5–2.5\\xa0cm (0.20–0.98\\xa0in) in diameter, yellowish white to yellowish brown, smooth, and with nodes and internodes.[78]\\nlotus root is a moderate-calorie root vegetable (100 g of root stem provides about 74 calories) and is composed of several vitamins, minerals, and nutrients:  83.80% water, 0.11% fat, 1.56% reducing sugar, 0.41% sucrose, 2.70% crude protein, 9.25% starch, 0.80% fiber, 0.10% ash and 0.06% calcium.[79]  100 g of root provides 44\\xa0mg of vitamin c or\\xa073% of daily recommended values (rda).\\nlotus rhizome and its extracts have shown diuretic, psychopharmacological, anti-diabetic, anti-obesity, hypoglycemic, antipyretic and antioxidant activities.[80][81][82][83][84][medical citation needed]\\nlotus seeds are mostly oval or spherical, with sizes varying according to varieties. they are generally 1.2–1.8\\xa0cm long, with diameters ranging from 0.8 to 1.4\\xa0cm and a weight of 1.1–1.4 g. after lotus seeds have been decorticated and peeled, they are edible and rich in nutrients and can be dried for storage. their nutritional values can differ due to culture environments and varieties.[85]\\nnot only do these seeds contain proteins of high quality and are rich in a variety of essential amino acids including high contents of albumin (42%) and globulin (27%), they also contain unsaturated fatty acids, carbohydrates, vitamins, calcium, iron, zinc, phosphorus and other trace elements.[86][87] they also provide water-soluble polysaccharides, alkaloids, flavonoids, superoxide dismutase, and other bioactive components.[88]\\nlotus seeds also contain particularly large amounts of vitamins, including vb1, vb2, vb6 and vitamin e.[89][90]\\nthe functional components (polyphenols, protein, polysaccharides) in n. nucifera seeds can help combat high blood pressure, diabetes, and gallstones.[55] lotus seed\\'s water-soluble polysaccharides have also been shown to promote lymphocyte transformation and enhance the immune function.[91]\\nafter lotus seed germination, crude protein and fat levels in the endosperm significantly increase. it is therefore an important method to enhance its nutritional quality.[92][56]\\nlotus field\\nfruit; the dried seed cup is commonly used in flower arrangements.\\ndeveloping fruit\\nbud of nelumbo nucifera\\nbud\\nflower\\nnelumbo nucifera is a lotus species with historical cultural and spiritual significance. it is a sacred flower in both hinduism and buddhism,[93] representing the path to spiritual awakening and enlightenment. in christianity, the lotus flower is often associated with the apostle thomas and his coming to india.[94]\\nin asian art a lotus throne is a stylized lotus flower used as the seat or base for a figure. it is the normal pedestal for divine figures in buddhist art and hindu art, and is often seen in jain art.  originating in indian art, it followed indian religions to east asia in particular. lotus flowers are also often held by figures.[95][96][97][98][99]\\nthe nelumbo nucifera, which is also called (nilufar abi in persian), can be seen in many reliefs of the achaemenid period (552 bc) such as the statue of anahita in the persepolis. lotus flower was included in kaveh the blacksmith\\'s derafsh and later as the flag of the sasanian empire derafsh kaviani. today, it is the symbol of iranians solar hijri calendar.\\n'"
      ]
     },
     "execution_count": 3,
     "metadata": {},
     "output_type": "execute_result"
    }
   ],
   "source": [
    "article_text"
   ]
  },
  {
   "cell_type": "code",
   "execution_count": 4,
   "metadata": {},
   "outputs": [],
   "source": [
    "article_text = re.sub(r'\\[[0-9]*\\]', ' ', article_text)\n",
    "article_text = re.sub(r'\\s+', ' ', article_text)"
   ]
  },
  {
   "cell_type": "code",
   "execution_count": 5,
   "metadata": {},
   "outputs": [],
   "source": [
    "article_sentences = nltk.sent_tokenize(article_text)\n",
    "article_words = nltk.word_tokenize(article_text)"
   ]
  },
  {
   "cell_type": "code",
   "execution_count": 6,
   "metadata": {},
   "outputs": [],
   "source": [
    "wnlemmatizer = nltk.stem.WordNetLemmatizer()\n",
    "\n",
    "def perform_lemmatization(tokens):\n",
    "    return [wnlemmatizer.lemmatize(token) for token in tokens]\n",
    "\n",
    "punctuation_removal = dict((ord(punctuation), None) for punctuation in string.punctuation)\n",
    "\n",
    "def get_processed_text(document):\n",
    "    return perform_lemmatization(nltk.word_tokenize(document.lower().translate(punctuation_removal)))"
   ]
  },
  {
   "cell_type": "code",
   "execution_count": 11,
   "metadata": {},
   "outputs": [],
   "source": [
    "from matplotlib import pyplot as plt\n",
    "from matplotlib import image as mpimg\n",
    "%matplotlib inline\n",
    "\n",
    "images_inputs = ['pink','blue','purple']\n",
    "greeting_inputs = (\"hey\", \"good morning\", \"good evening\", \"morning\", \"evening\", \"hi\", \"hello\",\"hey there\")\n",
    "greeting_responses = [\"hey\", \"hey hows you?\", \"*nods*\", \"hello, how you doing\", \"hello\", \"Welcome, I am good and you?\"]\n",
    "\n",
    "def generate_greeting_response(greeting):\n",
    "    for token in greeting.split():\n",
    "        if token.lower() in greeting_inputs:\n",
    "            return random.choice(greeting_responses)\n",
    "\n",
    "def image_sender():\n",
    "    colour = input(\"Please choose the colour for lotus image: (pink, blue and purple):\\nPS:To continue displaying give the prompt, else happy chatting!\")\n",
    "    \n",
    "    if colour in images_inputs:\n",
    "        image = mpimg.imread(\"lotus \"+colour.lower()+\".jpeg\")\n",
    "        plt.imshow(image)\n",
    "        plt.show()\n",
    "    else:\n",
    "        print(\"Choose from the available colours!\")"
   ]
  },
  {
   "cell_type": "code",
   "execution_count": 44,
   "metadata": {},
   "outputs": [],
   "source": [
    "import requests\n",
    "from PIL import Image\n",
    "import io\n",
    "\n",
    "def random_image():\n",
    "    response = requests.get(\"https://924f-2406-7400-56-7c1e-e823-ba88-f759-440b.ngrok-free.app/image\")\n",
    "    in_memory_file = io.BytesIO(response.content)\n",
    "    im = Image.open(in_memory_file)\n",
    "    display(im)"
   ]
  },
  {
   "cell_type": "code",
   "execution_count": 8,
   "metadata": {},
   "outputs": [],
   "source": [
    "from sklearn.feature_extraction.text import TfidfVectorizer\n",
    "from sklearn.metrics.pairwise import cosine_similarity"
   ]
  },
  {
   "cell_type": "code",
   "execution_count": 9,
   "metadata": {},
   "outputs": [],
   "source": [
    "def generate_response(user_input):\n",
    "    lotusrobo_response = ''\n",
    "    article_sentences.append(user_input)\n",
    "\n",
    "    word_vectorizer = TfidfVectorizer(tokenizer=get_processed_text, stop_words='english')\n",
    "    all_word_vectors = word_vectorizer.fit_transform(article_sentences)\n",
    "    similar_vector_values = cosine_similarity(all_word_vectors[-1], all_word_vectors)\n",
    "    similar_sentence_number = similar_vector_values.argsort()[0][-2]\n",
    "\n",
    "    matched_vector = similar_vector_values.flatten()\n",
    "    matched_vector.sort()\n",
    "    vector_matched = matched_vector[-2]\n",
    "\n",
    "    if vector_matched == 0:\n",
    "        lotusrobo_response = lotusrobo_response + \"I am sorry, I could not understand you\"\n",
    "        return lotusrobo_response\n",
    "    else:\n",
    "        lotusrobo_response = lotusrobo_response + article_sentences[similar_sentence_number]\n",
    "        return lotusrobo_response"
   ]
  },
  {
   "cell_type": "code",
   "execution_count": 50,
   "metadata": {
    "scrolled": true
   },
   "outputs": [
    {
     "name": "stdout",
     "output_type": "stream",
     "text": [
      "\n",
      "Hello, I am your friend LotusBot. You can ask me any question regarding Lotuses.\n",
      "To print a lotus image give the prompt 'Please print a lotus'!\n",
      "To print a random wallpaper give the prompt 'Random Image please'!\n",
      "\n",
      "Other names of lotus\n",
      "LotusBot: lotus varieties have been classified according to their use into three types: rhizome lotus, seed lotus, and flower lotus.\n",
      "other names\n",
      "LotusBot: I am sorry, I could not understand you\n",
      "also known as\n",
      "LotusBot: [citation needed] nelumbo nucifera is also known as egyptian bean.\n",
      "political aspect\n",
      "LotusBot: I am sorry, I could not understand you\n",
      "sun\n",
      "LotusBot: traditional sun baking combined with charcoal processing dries the seeds but results in a loss of nutrients.\n",
      "moon\n",
      "LotusBot: lotus seeds can be processed into moon cake, lotus seed noodles and food in the forms of paste, fermented milk, rice wine, ice cream, popcorn (phool makhana), and others, with lotus seeds as the main raw material.\n",
      "earth\n",
      "LotusBot: I am sorry, I could not understand you\n",
      "bye\n",
      "\n",
      "LotusBot: Good bye and take care of yourself.\n",
      "\n"
     ]
    }
   ],
   "source": [
    "continue_dialogue = True\n",
    "print(\"\\nHello, I am your friend LotusBot. You can ask me any question regarding Lotuses.\\nTo print a lotus image give the prompt 'Please print a lotus'!\\nTo print a random wallpaper give the prompt 'Random Image please'!\\n\")\n",
    "while(continue_dialogue == True):\n",
    "    human_text = input()\n",
    "    human_text = human_text.lower()\n",
    "    if human_text != 'bye':\n",
    "        if human_text == 'thanks' or human_text == 'thank you very much' or human_text == 'thank you':\n",
    "            continue_dialogue = False\n",
    "            print(\"\\nLotusBot: Most welcome!\\n\")\n",
    "        else:\n",
    "            if generate_greeting_response(human_text) != None:\n",
    "                print(\"LotusBot: \" + generate_greeting_response(human_text))\n",
    "            elif human_text==\"Please print a lotus\".lower():\n",
    "                image_sender()\n",
    "            elif human_text==\"Random Image please\".lower():\n",
    "                random_image()\n",
    "            else:\n",
    "                print(\"LotusBot: \", end=\"\")\n",
    "                print(generate_response(human_text))\n",
    "                article_sentences.remove(human_text) \n",
    "    else:\n",
    "        continue_dialogue = False\n",
    "        print(\"\\nLotusBot: Good bye and take care of yourself.\\n\")"
   ]
  },
  {
   "cell_type": "code",
   "execution_count": null,
   "metadata": {},
   "outputs": [],
   "source": []
  }
 ],
 "metadata": {
  "kernelspec": {
   "display_name": "Python 3",
   "language": "python",
   "name": "python3"
  },
  "language_info": {
   "codemirror_mode": {
    "name": "ipython",
    "version": 3
   },
   "file_extension": ".py",
   "mimetype": "text/x-python",
   "name": "python",
   "nbconvert_exporter": "python",
   "pygments_lexer": "ipython3",
   "version": "3.8.5"
  }
 },
 "nbformat": 4,
 "nbformat_minor": 4
}
